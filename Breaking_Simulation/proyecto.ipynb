{
 "cells": [
  {
   "cell_type": "markdown",
   "metadata": {},
   "source": [
    "## Importando las bibliotecas necesarias"
   ]
  },
  {
   "cell_type": "code",
   "execution_count": null,
   "metadata": {},
   "outputs": [],
   "source": [
    "import pandas as pd\n",
    "import math\n",
    "import numpy as np\n",
    "from sklearn.neighbors import KernelDensity\n",
    "import matplotlib.pyplot as plt"
   ]
  },
  {
   "cell_type": "markdown",
   "metadata": {},
   "source": [
    "## Preparando los datos\n",
    "Aquí se agrupan los datos necesarios de 3 competencias (las 3 más recientes con datos) para la simulación: En un diccionario se almacenan como llaves los nombres de los atletas, y como valores los puntos obtenidos en las competencias anteriores a esta. Los puntos se almacenan en orden cronológico, de la competencia más reciente a la menos reciente."
   ]
  },
  {
   "cell_type": "code",
   "execution_count": null,
   "metadata": {},
   "outputs": [],
   "source": [
    "data = pd.read_csv('Data_B_boys.csv')\n",
    "\n",
    "# Obteniendo cada jugador con sus respectivos puntos\n",
    "# Ordenados por fecha\n",
    "\n",
    "def Points_before_BfG_World_Series_0(): # Competencia del 15 de diciembre del 2023\n",
    "    dict_ = {}\n",
    "    for i, _ in enumerate(data['Name']):\n",
    "        if math.isnan(data['Points'][i]):\n",
    "            continue\n",
    "        if data['Name'][i] in dict_:\n",
    "            if data['Date'][i] != '15-Dec-23':\n",
    "                dict_[data['Name'][i]].append(data['Points'][i])\n",
    "\n",
    "        elif data['Date'][i] != '15-Dec-23':\n",
    "            dict_[data['Name'][i]] = [data['Points'][i]]\n",
    "\n",
    "    return dict_\n",
    "\n",
    "def Points_before_BfG_World_Series_1(): # Competencia del 30 de agosto del 2023\n",
    "    dict_ = {}\n",
    "    for i, _ in enumerate(data['Name']):\n",
    "        if math.isnan(data['Points'][i]):\n",
    "            continue\n",
    "        if data['Name'][i] in dict_:\n",
    "            if data['Date'][i] != '15-Dec-23' and data['Date'][i] != '23-Sept-23' and data['Date'][i] != '30-Aug-23':\n",
    "                dict_[data['Name'][i]].append(data['Points'][i])\n",
    "\n",
    "        elif data['Date'][i] != '15-Dec-23' and data['Date'][i] != '23-Sept-23' and data['Date'][i] != '30-Aug-23':\n",
    "            dict_[data['Name'][i]] = [data['Points'][i]]\n",
    "\n",
    "    return dict_\n",
    "\n",
    "def Points_before_Continental_Championship(): # Competencia del 6 de mayo del 2023\n",
    "    dict_ = {}\n",
    "    for i, _ in enumerate(data['Name']):\n",
    "        if math.isnan(data['Points'][i]):\n",
    "            continue\n",
    "        if data['Name'][i] in dict_:\n",
    "            if data['Date'][i] != '15-Dec-23' and data['Date'][i] != '23-Sept-23' and data['Date'][i] != '30-Aug-23' and data['Date'][i] != '26-Jun-23' and data['Date'][i] != '3-Jun-23' and data['Date'][i] != '17-May-23'and data['Date'][i] != '6-May-23':\n",
    "                dict_[data['Name'][i]].append(data['Points'][i])\n",
    "\n",
    "        elif data['Date'][i] != '15-Dec-23' and data['Date'][i] != '23-Sept-23' and data['Date'][i] != '30-Aug-23' and data['Date'][i] != '26-Jun-23' and data['Date'][i] != '3-Jun-23' and data['Date'][i] != '17-May-23'and data['Date'][i] != '6-May-23':\n",
    "            dict_[data['Name'][i]] = [data['Points'][i]]\n",
    "\n",
    "    return dict_"
   ]
  },
  {
   "cell_type": "markdown",
   "metadata": {},
   "source": [
    "## Simulaciones\n",
    "Aquí se definen 2 métodos de simulación basados en KDE, con tophat como kernel y un bandwidth = 0.75. Con la distribución hallada gracias a las puntuaciones anteriores se predice las puntuaciones de la competencia que se desee. Ambos métodos devuelven un array de puntuaciones, donde cada posición del array coincide con la posición en el array de nombres *auxN* que se pasó como parámetro, prediciéndose una puntuación para cada atleta.\n",
    "\n",
    "En el segundo método se le aplica un peso a las puntuaciones de las competencias más recientes, siendo estas más importantes a tener en cuenta."
   ]
  },
  {
   "cell_type": "code",
   "execution_count": null,
   "metadata": {},
   "outputs": [],
   "source": [
    "def Simulate_Event(Evento, fecha, kernel_, dict_):\n",
    "    auxN = []\n",
    "    auxR = []\n",
    "\n",
    "    for i, item in enumerate(data['Event']):\n",
    "        if item == Evento and data['Date'][i] == fecha and data['Name'][i] in dict_ and not math.isnan(data['Points'][i]):\n",
    "            auxN.append(data['Name'][i])\n",
    "            auxR.append(data['Points'][i])\n",
    "            \n",
    "    auxT = []\n",
    "    for item in auxN:\n",
    "        c = np.array(dict_[item])\n",
    "        kde = KernelDensity(kernel=kernel_, bandwidth=0.75).fit(c.reshape(-1, 1))\n",
    "        auxT.append(int(kde.sample(1)[0][0]))\n",
    "    aux = [auxR, auxT]\n",
    "    for i in range(len(aux)):\n",
    "        plt.plot(aux[i])\n",
    "    \n",
    "    return auxN, auxR, auxT\n",
    "\n",
    "def Simulate_Event_Weight(auxN, auxR, kernel_, dict_):\n",
    "    auxT1 = []\n",
    "    for item in auxN:\n",
    "        c = np.array(dict_[item])\n",
    "        d = []\n",
    "        for i in range(len(c)):\n",
    "            d.append(1/(2*i + 1))\n",
    "        d = np.array(d)\n",
    "        kde = KernelDensity(kernel=kernel_, bandwidth=0.75).fit(X = c.reshape(-1, 1), sample_weight= d)\n",
    "        auxT1.append(int(kde.sample(1)[0][0]))\n",
    "\n",
    "    aux = [auxR, auxT1]\n",
    "    for i in range(len(aux)):\n",
    "        plt.plot(aux[i])\n",
    "    \n",
    "    return auxT1"
   ]
  },
  {
   "cell_type": "markdown",
   "metadata": {},
   "source": [
    "## *n* simulaciones"
   ]
  },
  {
   "cell_type": "code",
   "execution_count": null,
   "metadata": {},
   "outputs": [],
   "source": [
    "def simulate_n(auxN, kernel_, n, dict_):\n",
    "    n_simulations = []\n",
    "    for i in range(n):\n",
    "        simulation = []\n",
    "        for item in auxN:\n",
    "            c = np.array(dict_[item])\n",
    "            kde = KernelDensity(kernel= kernel_, bandwidth=0.75).fit(c.reshape(-1, 1))\n",
    "            simulation.append(int(kde.sample(1)[0][0]))\n",
    "        plt.plot(simulation)\n",
    "        n_simulations.append(simulation)\n",
    "\n",
    "    return n_simulations\n",
    "\n",
    "def simulate_weight_n(auxN, kernel_, n, dict_):\n",
    "    n_simulations = []\n",
    "    for i in range(n):\n",
    "        simulation = []\n",
    "        for item in auxN:\n",
    "            c = np.array(dict_[item])\n",
    "            d = []\n",
    "            for i in range(len(c)):\n",
    "                d.append(1/(2*i + 1))\n",
    "            d = np.array(d)\n",
    "            kde = KernelDensity(kernel=kernel_, bandwidth=0.75).fit(X = c.reshape(-1, 1), sample_weight= d)\n",
    "            simulation.append(int(kde.sample(1)[0][0]))\n",
    "        plt.plot(simulation)\n",
    "        n_simulations.append(simulation)\n",
    "        \n",
    "    return n_simulations"
   ]
  },
  {
   "cell_type": "markdown",
   "metadata": {},
   "source": [
    "# *BfG World Series* del _15-Dec-23_"
   ]
  },
  {
   "cell_type": "markdown",
   "metadata": {},
   "source": [
    "## Representación visual de las simulaciones"
   ]
  },
  {
   "cell_type": "markdown",
   "metadata": {},
   "source": [
    "### Simulación `sin peso`"
   ]
  },
  {
   "cell_type": "code",
   "execution_count": null,
   "metadata": {},
   "outputs": [],
   "source": [
    "names_0, real_points_0, simulados_0 = Simulate_Event('BfG World Series', '15-Dec-23', \"tophat\", Points_before_BfG_World_Series_0())\n",
    "print('azul --------> Valores reales de la competencia \\nanaranjado --> Valores simulados')"
   ]
  },
  {
   "cell_type": "markdown",
   "metadata": {},
   "source": [
    "### Simulación `con peso`"
   ]
  },
  {
   "cell_type": "code",
   "execution_count": null,
   "metadata": {},
   "outputs": [],
   "source": [
    "simulados_1 = Simulate_Event_Weight(names_0, real_points_0, \"tophat\", Points_before_BfG_World_Series_0())\n",
    "print('azul --------> Valores reales de la competencia \\nanaranjado --> Valores simulados')"
   ]
  },
  {
   "cell_type": "markdown",
   "metadata": {},
   "source": [
    "## Representación visual de *n* simulaciones"
   ]
  },
  {
   "cell_type": "markdown",
   "metadata": {},
   "source": [
    "### Simulación `Sin peso`"
   ]
  },
  {
   "cell_type": "code",
   "execution_count": null,
   "metadata": {},
   "outputs": [],
   "source": [
    "n_simulations = simulate_n(names_0, \"tophat\", 1000, Points_before_BfG_World_Series_0())"
   ]
  },
  {
   "cell_type": "markdown",
   "metadata": {},
   "source": [
    "### Simulación `Con peso`"
   ]
  },
  {
   "cell_type": "code",
   "execution_count": null,
   "metadata": {},
   "outputs": [],
   "source": [
    "n_simulations_weight = simulate_weight_n(names_0, \"tophat\", 1000, Points_before_BfG_World_Series_0())"
   ]
  },
  {
   "cell_type": "markdown",
   "metadata": {},
   "source": [
    "### Obtención de los rankings a partir de las puntuaciones"
   ]
  },
  {
   "cell_type": "code",
   "execution_count": null,
   "metadata": {},
   "outputs": [],
   "source": [
    "import copy\n",
    "\n",
    "def Get_Rankings(names, points):\n",
    "    new_dict = {}\n",
    "    names_copy = copy.copy(names)\n",
    "    points_copy = copy.copy(points)\n",
    "\n",
    "    for i in range(len(names) - 1):\n",
    "        for j in range(i, len(names)):\n",
    "            if points_copy[i] < points_copy[j]:\n",
    "                a = points_copy[i]\n",
    "                b = names_copy[i]\n",
    "                points_copy[i] = points_copy[j]\n",
    "                names_copy[i] = names_copy[j]\n",
    "                points_copy[j] = a\n",
    "                names_copy[j] = b\n",
    "    \n",
    "    for i in range(len(names_copy)):\n",
    "        new_dict[names_copy[i]] = i + 1\n",
    "    \n",
    "    ranking = []\n",
    "    for i in range(len(names)):\n",
    "        ranking.append(new_dict[names[i]])\n",
    "    \n",
    "    return ranking"
   ]
  },
  {
   "cell_type": "markdown",
   "metadata": {},
   "source": [
    "## Comprobando la precisión de las simulaciones\n"
   ]
  },
  {
   "cell_type": "markdown",
   "metadata": {},
   "source": [
    "Primero, realizamos una comparación entre la media de 1000 simulaciones y la de los resultados reales, mediante un ttest."
   ]
  },
  {
   "cell_type": "markdown",
   "metadata": {},
   "source": [
    "$H_0$: No existe una diferencia significativa entre los resultados originales y los simulados.\n",
    "\n",
    "$H_1$: Existe una diferencia significativa entre los resultados originales y los simulados."
   ]
  },
  {
   "cell_type": "code",
   "execution_count": null,
   "metadata": {},
   "outputs": [],
   "source": [
    "from scipy.stats import ttest_rel\n",
    "\n",
    "means = []\n",
    "means_weight = []\n",
    "\n",
    "for i in range(len(names_0)):\n",
    "    aux = []\n",
    "    for j in range(len(n_simulations)):\n",
    "        aux.append(n_simulations[j][i])  \n",
    "    means.append(np.mean(aux)) \n",
    "\n",
    "for i in range(len(names_0)):\n",
    "    aux = []\n",
    "    for j in range(len(n_simulations_weight)):\n",
    "        aux.append(n_simulations_weight[j][i])  \n",
    "    means_weight.append(np.mean(aux))\n",
    "\n",
    "# Resultados originales y simulaciones\n",
    "resultados_originales = np.array(real_points_0)\n",
    "resultados_simulacion1 = np.array(means)\n",
    "resultados_simulacion2 = np.array(means_weight)\n",
    "\n",
    "# Prueba t de Student para muestras relacionadas (resultados originales vs. simulación 1)\n",
    "t_statistic1, p_value1 = ttest_rel(resultados_originales, resultados_simulacion1)\n",
    "\n",
    "# Prueba t de Student para muestras relacionadas (resultados originales vs. simulación 2)\n",
    "t_statistic2, p_value2 = ttest_rel(resultados_originales, resultados_simulacion2)\n",
    "\n",
    "# Nivel de significancia (α)\n",
    "alpha = 0.05\n",
    "\n",
    "# Compara p-values con α\n",
    "if p_value1 < alpha:\n",
    "    print(\"Rechazamos la hipótesis nula para la simulación 1.\")\n",
    "else:\n",
    "    print(\"No rechazamos la hipótesis nula para la simulación 1.\")\n",
    "print(t_statistic1)\n",
    "if p_value2 < alpha:\n",
    "    print(\"Rechazamos la hipótesis nula para la simulación 2.\")\n",
    "else:\n",
    "    print(\"No rechazamos la hipótesis nula para la simulación 2.\")\n",
    "print(t_statistic2)"
   ]
  },
  {
   "cell_type": "markdown",
   "metadata": {},
   "source": [
    "#### Luego, se usa una métrica basada en probabilidades, donde se compara la probabilidad de que un atleta haya quedado en el ranking real de la comptencia, luego de realizar mil simulaciones"
   ]
  },
  {
   "cell_type": "markdown",
   "metadata": {},
   "source": [
    "### Cálculo de la probabilidad\n",
    "Aquí se calcula la probabilidad de que en las *n* simulaciones un atleta `A` haya quedado en la posición `k` (posición real en la competencia) dado que no quedó en las `k-1` posiciones anteriores en algunas de las *n* simulaciones. Se asume independencia entre las variables. AL resultado de hallar la probabilidad se le multiplica un parámetro $\\alpha$, 0 $\\leq \\alpha \\leq$ 1, que dona más peso a los primeros lugares predichos. Téngase en cuenta que la suma de todos los alphas es igual a 1.\n",
    "\n",
    "**Ejemplo:** $\\alpha$ * P(A = 3| A != 2 and A != 1)"
   ]
  },
  {
   "cell_type": "code",
   "execution_count": null,
   "metadata": {},
   "outputs": [],
   "source": [
    "def Get_dictionaries(points_simulated, names, n):\n",
    "    dictionaries = []\n",
    "    new_dict = {}\n",
    "\n",
    "    for i in range(1, len(names) + 1):\n",
    "        new_dict[i] = 0\n",
    "\n",
    "    for i in range(len(names)):\n",
    "        _new_dict = copy.copy(new_dict)\n",
    "        dictionaries.append(_new_dict)\n",
    "    \n",
    "    rankings_simulated = []\n",
    "\n",
    "    for i in range(n):\n",
    "         rankings_simulated.append(Get_Rankings(names, points_simulated[i]))\n",
    "    \n",
    "    for i in range(n):\n",
    "        for j in range(len(names)):\n",
    "            dictionaries[j][rankings_simulated[i][j]] +=1\n",
    "\n",
    "    for i in range(len(dictionaries)):\n",
    "        for j in range(1, len(names) + 1):\n",
    "            dictionaries[i][j] = dictionaries[i][j]/n\n",
    "    \n",
    "    return dictionaries"
   ]
  },
  {
   "cell_type": "code",
   "execution_count": null,
   "metadata": {},
   "outputs": [],
   "source": [
    "def Calculate_prob(rank_prob, real_results, i):    \n",
    "    k = int(real_results[i])\n",
    "    restriction = 0\n",
    "    \n",
    "    for j in range(k, len(real_results) + 1):\n",
    "       \n",
    "       restriction += rank_prob[i][j]\n",
    "       \n",
    "    if restriction == 0: return rank_prob[i][k]\n",
    "    return rank_prob[i][k]/restriction\n",
    "\n",
    "\n",
    "def Probability_based(rank_prob, real_results):\n",
    "    sum = 0\n",
    "    alpha_sum = 0\n",
    "    k = 0.01\n",
    "\n",
    "    for i in range(len(real_results)):\n",
    "        sum +=  np.exp(-k * real_results[i]) * Calculate_prob(rank_prob, real_results, i)\n",
    "        alpha_sum += np.exp(-k * real_results[i])\n",
    "        \n",
    "    return sum/alpha_sum\n",
    "    "
   ]
  },
  {
   "cell_type": "markdown",
   "metadata": {},
   "source": [
    "### Comprobando la precisión en cuanto a probabilidad de 1000 simulaciones del 1er método (sin peso)"
   ]
  },
  {
   "cell_type": "code",
   "execution_count": null,
   "metadata": {},
   "outputs": [],
   "source": [
    "dictionaries = Get_dictionaries(n_simulations, names_0, 1000)\n",
    "result = Probability_based(dictionaries, Get_Rankings(names_0, real_points_0))\n",
    "\n",
    "print(f\"Precision del método: {result}\")"
   ]
  },
  {
   "cell_type": "markdown",
   "metadata": {},
   "source": [
    "### Comprobando la precisión en cuanto a probabilidad de 1000 simulaciones del 2do método (con peso)"
   ]
  },
  {
   "cell_type": "code",
   "execution_count": null,
   "metadata": {},
   "outputs": [],
   "source": [
    "dictionaries = Get_dictionaries(n_simulations_weight, names_0, 1000)\n",
    "result = Probability_based(dictionaries, Get_Rankings(names_0, real_points_0))\n",
    "\n",
    "print(f\"Precision del método: {result}\")"
   ]
  },
  {
   "cell_type": "markdown",
   "metadata": {},
   "source": [
    "# *BfG World Series* del _30-Aug-23_"
   ]
  },
  {
   "cell_type": "markdown",
   "metadata": {},
   "source": [
    "## Representación visual de las simulaciones"
   ]
  },
  {
   "cell_type": "markdown",
   "metadata": {},
   "source": [
    "### Simulación `sin peso`"
   ]
  },
  {
   "cell_type": "code",
   "execution_count": null,
   "metadata": {},
   "outputs": [],
   "source": [
    "names_2, real_points_2, simulados_2 = Simulate_Event('BfG World Series', '30-Aug-23', \"tophat\", Points_before_BfG_World_Series_1())\n",
    "print('azul --------> Valores reales de la competencia \\nanaranjado --> Valores simulados')"
   ]
  },
  {
   "cell_type": "markdown",
   "metadata": {},
   "source": [
    "### Simulación `con peso`"
   ]
  },
  {
   "cell_type": "code",
   "execution_count": null,
   "metadata": {},
   "outputs": [],
   "source": [
    "simulados_3 = Simulate_Event_Weight(names_2, real_points_2, \"tophat\", Points_before_BfG_World_Series_1())\n",
    "print('azul --------> Valores reales de la competencia \\nanaranjado --> Valores simulados')"
   ]
  },
  {
   "cell_type": "markdown",
   "metadata": {},
   "source": [
    "## Representación visual de *n* simulaciones"
   ]
  },
  {
   "cell_type": "markdown",
   "metadata": {},
   "source": [
    "### Simulación `Sin peso`"
   ]
  },
  {
   "cell_type": "code",
   "execution_count": null,
   "metadata": {},
   "outputs": [],
   "source": [
    "n_simulations_ = simulate_n(names_2, \"tophat\", 1000, Points_before_BfG_World_Series_1())"
   ]
  },
  {
   "cell_type": "markdown",
   "metadata": {},
   "source": [
    "### Simulación `con peso`"
   ]
  },
  {
   "cell_type": "code",
   "execution_count": null,
   "metadata": {},
   "outputs": [],
   "source": [
    "n_simulations_weight_ = simulate_weight_n(names_2, \"tophat\", 1000, Points_before_BfG_World_Series_1())"
   ]
  },
  {
   "cell_type": "markdown",
   "metadata": {},
   "source": [
    "### Comprobando la precisión de 1000 simulaciones "
   ]
  },
  {
   "cell_type": "markdown",
   "metadata": {},
   "source": [
    "$H_0$: No existe una diferencia significativa entre los resultados originales y los simulados.\n",
    "\n",
    "$H_1$: Existe una diferencia significativa entre los resultados originales y los simulados."
   ]
  },
  {
   "cell_type": "code",
   "execution_count": null,
   "metadata": {},
   "outputs": [],
   "source": [
    "from scipy.stats import ttest_rel\n",
    "\n",
    "means_ = []\n",
    "means_weight_ = []\n",
    "\n",
    "for i in range(len(names_2)):\n",
    "    aux = []\n",
    "    for j in range(len(n_simulations_)):\n",
    "        aux.append(n_simulations_[j][i])  \n",
    "    means_.append(np.mean(aux)) \n",
    "\n",
    "for i in range(len(names_2)):\n",
    "    aux = []\n",
    "    for j in range(len(n_simulations_weight_)):\n",
    "        aux.append(n_simulations_weight_[j][i])  \n",
    "    means_weight_.append(np.mean(aux))\n",
    "\n",
    "# Resultados originales y simulaciones\n",
    "resultados_originales_ = np.array(real_points_2)\n",
    "resultados_simulacion1_ = np.array(means_)\n",
    "resultados_simulacion2_ = np.array(means_weight_)\n",
    "\n",
    "# Prueba t de Student para muestras relacionadas (resultados originales vs. simulación 1)\n",
    "t_statistic1, p_value1 = ttest_rel(resultados_originales_, resultados_simulacion1_)\n",
    "\n",
    "# Prueba t de Student para muestras relacionadas (resultados originales vs. simulación 2)\n",
    "t_statistic2, p_value2 = ttest_rel(resultados_originales_, resultados_simulacion2_)\n",
    "\n",
    "# Nivel de significancia (α)\n",
    "alpha = 0.05\n",
    "\n",
    "# Compara p-values con α\n",
    "if p_value1 < alpha:\n",
    "    print(\"Rechazamos la hipótesis nula para la simulación 1.\")\n",
    "else:\n",
    "    print(\"No rechazamos la hipótesis nula para la simulación 1.\")\n",
    "print(t_statistic1)\n",
    "if p_value2 < alpha:\n",
    "    print(\"Rechazamos la hipótesis nula para la simulación 2.\")\n",
    "else:\n",
    "    print(\"No rechazamos la hipótesis nula para la simulación 2.\")\n",
    "print(t_statistic2)"
   ]
  },
  {
   "cell_type": "markdown",
   "metadata": {},
   "source": [
    "### Comprobando la precisión en cuanto a probabilidad de 1000 simulaciones del 1er método (sin peso)"
   ]
  },
  {
   "cell_type": "code",
   "execution_count": null,
   "metadata": {},
   "outputs": [],
   "source": [
    "dictionaries = Get_dictionaries(n_simulations_, names_2, 1000)\n",
    "result = Probability_based(dictionaries, Get_Rankings(names_2, real_points_2))\n",
    "\n",
    "print(f\"Precision del método: {result}\")"
   ]
  },
  {
   "cell_type": "markdown",
   "metadata": {},
   "source": [
    "### Comprobando la precisión en cuanto a probabilidad de 1000 simulaciones del 2do método (con peso)"
   ]
  },
  {
   "cell_type": "code",
   "execution_count": null,
   "metadata": {},
   "outputs": [],
   "source": [
    "dictionaries = Get_dictionaries(n_simulations_weight_, names_2, 1000)\n",
    "result = Probability_based(dictionaries, Get_Rankings(names_2, real_points_2))\n",
    "\n",
    "print(f\"Precision del método: {result}\")"
   ]
  },
  {
   "cell_type": "markdown",
   "metadata": {},
   "source": [
    "# *Continental Championship* del *6-May-23*"
   ]
  },
  {
   "cell_type": "markdown",
   "metadata": {},
   "source": [
    "## Representación visual de las simulaciones"
   ]
  },
  {
   "cell_type": "markdown",
   "metadata": {},
   "source": [
    "### Simulación `sin peso`"
   ]
  },
  {
   "cell_type": "code",
   "execution_count": null,
   "metadata": {},
   "outputs": [],
   "source": [
    "names_4, real_points_4, simulados_4 = Simulate_Event('Continental Championship', '6-May-23', \"tophat\", Points_before_Continental_Championship())\n",
    "print('azul --------> Valores reales de la competencia \\nanaranjado --> Valores simulados')"
   ]
  },
  {
   "cell_type": "markdown",
   "metadata": {},
   "source": [
    "### Simulación `con peso`"
   ]
  },
  {
   "cell_type": "code",
   "execution_count": null,
   "metadata": {},
   "outputs": [],
   "source": [
    "simulados_5 = Simulate_Event_Weight(names_4, real_points_4, \"tophat\", Points_before_Continental_Championship())\n",
    "print('azul --------> Valores reales de la competencia \\nanaranjado --> Valores simulados')"
   ]
  },
  {
   "cell_type": "markdown",
   "metadata": {},
   "source": [
    "## Representación visual de *n* simulaciones"
   ]
  },
  {
   "cell_type": "markdown",
   "metadata": {},
   "source": [
    "### Simulación `Sin peso`"
   ]
  },
  {
   "cell_type": "code",
   "execution_count": null,
   "metadata": {},
   "outputs": [],
   "source": [
    "n_simulations__ = simulate_n(names_4, \"tophat\", 1000, Points_before_Continental_Championship())"
   ]
  },
  {
   "cell_type": "markdown",
   "metadata": {},
   "source": [
    "### Simulación `con peso`"
   ]
  },
  {
   "cell_type": "code",
   "execution_count": null,
   "metadata": {},
   "outputs": [],
   "source": [
    "n_simulations_weight__ = simulate_weight_n(names_4, \"tophat\", 1000, Points_before_Continental_Championship())"
   ]
  },
  {
   "cell_type": "markdown",
   "metadata": {},
   "source": [
    "### Comprobación de la precisión de las simulaciones"
   ]
  },
  {
   "cell_type": "markdown",
   "metadata": {},
   "source": [
    "$H_0$: No existe una diferencia significativa entre los resultados originales y los simulados.\n",
    "\n",
    "$H_1$: Existe una diferencia significativa entre los resultados originales y los simulados."
   ]
  },
  {
   "cell_type": "code",
   "execution_count": null,
   "metadata": {},
   "outputs": [],
   "source": [
    "from scipy.stats import ttest_rel\n",
    "\n",
    "means__ = []\n",
    "means_weight__ = []\n",
    "\n",
    "for i in range(len(names_4)):\n",
    "    aux = []\n",
    "    for j in range(len(n_simulations__)):\n",
    "        aux.append(n_simulations__[j][i])  \n",
    "    means__.append(np.mean(aux)) \n",
    "\n",
    "for i in range(len(names_4)):\n",
    "    aux = []\n",
    "    for j in range(len(n_simulations_weight__)):\n",
    "        aux.append(n_simulations_weight__[j][i])  \n",
    "    means_weight__.append(np.mean(aux))\n",
    "\n",
    "# Resultados originales y simulaciones\n",
    "resultados_originales__ = np.array(real_points_4)\n",
    "resultados_simulacion1__ = np.array(means__)\n",
    "resultados_simulacion2__ = np.array(means_weight__)\n",
    "\n",
    "# Prueba t de Student para muestras relacionadas (resultados originales vs. simulación 1)\n",
    "t_statistic1, p_value1 = ttest_rel(resultados_originales__, resultados_simulacion1__)\n",
    "\n",
    "# Prueba t de Student para muestras relacionadas (resultados originales vs. simulación 2)\n",
    "t_statistic2, p_value2 = ttest_rel(resultados_originales__, resultados_simulacion2__)\n",
    "\n",
    "# Nivel de significancia (α)\n",
    "alpha = 0.05\n",
    "\n",
    "# Compara p-values con α\n",
    "if p_value1 < alpha:\n",
    "    print(\"Rechazamos la hipótesis nula para la simulación 1.\")\n",
    "else:\n",
    "    print(\"No rechazamos la hipótesis nula para la simulación 1.\")\n",
    "print(t_statistic1)\n",
    "if p_value2 < alpha:\n",
    "    print(\"Rechazamos la hipótesis nula para la simulación 2.\")\n",
    "else:\n",
    "    print(\"No rechazamos la hipótesis nula para la simulación 2.\")\n",
    "print(t_statistic2)"
   ]
  },
  {
   "cell_type": "markdown",
   "metadata": {},
   "source": [
    "### Comprobando la precisión en cuanto a probabilidad de 1000 simulaciones del 1er método (sin peso)"
   ]
  },
  {
   "cell_type": "code",
   "execution_count": null,
   "metadata": {},
   "outputs": [],
   "source": [
    "dictionaries = Get_dictionaries(n_simulations__, names_4, 1000)\n",
    "result = Probability_based(dictionaries, Get_Rankings(names_4, real_points_4))\n",
    "\n",
    "print(f\"Precision del método: {result}\")"
   ]
  },
  {
   "cell_type": "markdown",
   "metadata": {},
   "source": [
    "### Comprobando la precisión en cuanto a probabilidad de 1000 simulaciones del 2do método (con peso)"
   ]
  },
  {
   "cell_type": "code",
   "execution_count": null,
   "metadata": {},
   "outputs": [],
   "source": [
    "dictionaries = Get_dictionaries(n_simulations_weight__, names_4, 1000)\n",
    "result = Probability_based(dictionaries, Get_Rankings(names_4, real_points_4))\n",
    "\n",
    "print(f\"Precision del método: {result}\")"
   ]
  },
  {
   "cell_type": "code",
   "execution_count": null,
   "metadata": {},
   "outputs": [],
   "source": [
    "participantes_por_lugar = data.groupby(\"Location\")[\"Name\"].sum()\n",
    "import seaborn as sns\n",
    "import matplotlib.pyplot as plt\n",
    "\n",
    "# Crea un gráfico de conteo\n",
    "plt.figure(figsize=(50, 40))\n",
    "sns.countplot(data=data, x=\"Location\", hue=\"Location\")\n",
    "plt.xlabel(\"Lugar de realización\")\n",
    "plt.ylabel(\"Cantidad de participantes\")\n",
    "plt.title(\"Influencia del lugar en los ganadores\")\n",
    "plt.ylim(0,80)\n",
    "#plt.show()\n",
    "print(sns.countplot)\n"
   ]
  },
  {
   "cell_type": "markdown",
   "metadata": {},
   "source": [
    "### **Análisis sobre la influencia del lugar (ciudad y país) en el que se realiza una competencia en los puntos que tuvieron los atletas que participaron en ella, respecto a los obtenidos en otra competencia.**"
   ]
  },
  {
   "cell_type": "markdown",
   "metadata": {},
   "source": [
    "$H_0$: No hay una diferencia significativa entre los puntos otorgados en una competencias, respecto a los otorgados en otra.\n",
    "\n",
    "$H_1$: Hay una diferencia significativa entre los puntos otorgados en una competencias, respecto a los otorgados en otra."
   ]
  },
  {
   "cell_type": "code",
   "execution_count": null,
   "metadata": {},
   "outputs": [],
   "source": [
    "from scipy.stats import f_oneway\n",
    "\n",
    "def participantes_x_lugar(lugar):\n",
    "    aux = []\n",
    "    for i, item in enumerate(data['Location']):\n",
    "        if item == lugar and data['Points'][i] >= 0:\n",
    "            aux.append(data['Points'][i])\n",
    "    return aux\n",
    "lugar1 = participantes_x_lugar(\"Madrid - Spain\")\n",
    "lugar2 = participantes_x_lugar(\"Seoul - South Korea\")\n",
    "lugar3 = participantes_x_lugar(\"Rio de Janerio - Brazil\")\n",
    "\n",
    "f_statistic, p_value = f_oneway(lugar1, lugar2, lugar3)\n",
    "print(f\"Estadística F: {f_statistic:.2f}\")\n",
    "print(f\"Valor p: {p_value:.4f}\")\n",
    "\n",
    "if p_value < 0.05:\n",
    "    print(\"Hay una diferencia significativa entre los lugares.\")\n",
    "else:\n",
    "    print(\"No hay evidencia suficiente para afirmar una diferencia significativa.\")"
   ]
  }
 ],
 "metadata": {
  "kernelspec": {
   "display_name": "Python 3",
   "language": "python",
   "name": "python3"
  },
  "language_info": {
   "codemirror_mode": {
    "name": "ipython",
    "version": 3
   },
   "file_extension": ".py",
   "mimetype": "text/x-python",
   "name": "python",
   "nbconvert_exporter": "python",
   "pygments_lexer": "ipython3",
   "version": "3.10.7"
  }
 },
 "nbformat": 4,
 "nbformat_minor": 2
}
